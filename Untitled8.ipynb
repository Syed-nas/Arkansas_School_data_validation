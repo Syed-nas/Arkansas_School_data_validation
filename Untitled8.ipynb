{
  "nbformat": 4,
  "nbformat_minor": 0,
  "metadata": {
    "colab": {
      "provenance": [],
      "authorship_tag": "ABX9TyMhG/ct2L6HLxe0pnU4Rc1X",
      "include_colab_link": true
    },
    "kernelspec": {
      "name": "python3",
      "display_name": "Python 3"
    },
    "language_info": {
      "name": "python"
    }
  },
  "cells": [
    {
      "cell_type": "markdown",
      "metadata": {
        "id": "view-in-github",
        "colab_type": "text"
      },
      "source": [
        "<a href=\"https://colab.research.google.com/github/Syed-nas/Arkansas_School_data_validation/blob/main/Untitled8.ipynb\" target=\"_parent\"><img src=\"https://colab.research.google.com/assets/colab-badge.svg\" alt=\"Open In Colab\"/></a>"
      ]
    },
    {
      "cell_type": "code",
      "execution_count": 4,
      "metadata": {
        "colab": {
          "base_uri": "https://localhost:8080/",
          "height": 398
        },
        "id": "FDYiigLkgy2m",
        "outputId": "5a418f2b-f75d-4457-d5d9-defba7d406bc"
      },
      "outputs": [
        {
          "output_type": "execute_result",
          "data": {
            "text/plain": [
              "id               int64\n",
              "timestamp       object\n",
              "measurement     object\n",
              "field           object\n",
              "value          float64\n",
              "device_id       object\n",
              "register_id     object\n",
              "tag             object\n",
              "datatype        object\n",
              "topic           object\n",
              "dtype: object"
            ],
            "text/html": [
              "<div>\n",
              "<style scoped>\n",
              "    .dataframe tbody tr th:only-of-type {\n",
              "        vertical-align: middle;\n",
              "    }\n",
              "\n",
              "    .dataframe tbody tr th {\n",
              "        vertical-align: top;\n",
              "    }\n",
              "\n",
              "    .dataframe thead th {\n",
              "        text-align: right;\n",
              "    }\n",
              "</style>\n",
              "<table border=\"1\" class=\"dataframe\">\n",
              "  <thead>\n",
              "    <tr style=\"text-align: right;\">\n",
              "      <th></th>\n",
              "      <th>0</th>\n",
              "    </tr>\n",
              "  </thead>\n",
              "  <tbody>\n",
              "    <tr>\n",
              "      <th>id</th>\n",
              "      <td>int64</td>\n",
              "    </tr>\n",
              "    <tr>\n",
              "      <th>timestamp</th>\n",
              "      <td>object</td>\n",
              "    </tr>\n",
              "    <tr>\n",
              "      <th>measurement</th>\n",
              "      <td>object</td>\n",
              "    </tr>\n",
              "    <tr>\n",
              "      <th>field</th>\n",
              "      <td>object</td>\n",
              "    </tr>\n",
              "    <tr>\n",
              "      <th>value</th>\n",
              "      <td>float64</td>\n",
              "    </tr>\n",
              "    <tr>\n",
              "      <th>device_id</th>\n",
              "      <td>object</td>\n",
              "    </tr>\n",
              "    <tr>\n",
              "      <th>register_id</th>\n",
              "      <td>object</td>\n",
              "    </tr>\n",
              "    <tr>\n",
              "      <th>tag</th>\n",
              "      <td>object</td>\n",
              "    </tr>\n",
              "    <tr>\n",
              "      <th>datatype</th>\n",
              "      <td>object</td>\n",
              "    </tr>\n",
              "    <tr>\n",
              "      <th>topic</th>\n",
              "      <td>object</td>\n",
              "    </tr>\n",
              "  </tbody>\n",
              "</table>\n",
              "</div><br><label><b>dtype:</b> object</label>"
            ]
          },
          "metadata": {},
          "execution_count": 4
        }
      ],
      "source": [
        "import pandas as pd\n",
        "import numpy as np\n",
        "\n",
        "data = pd.read_csv('/content/sample_data/influx_dump_05262025.csv')\n",
        "availbilty_df = data[data['tag']=='Program:C1_Control.Cell.AutomaticAll']\n",
        "data.dtypes"
      ]
    },
    {
      "cell_type": "code",
      "source": [
        "from pyspark.sql import SparkSession\n",
        "from pyspark.sql.functions import col, to_timestamp, date_format, when\n",
        "\n",
        "# Start Spark session\n",
        "spark = SparkSession.builder.appName(\"ShiftAssignment\").getOrCreate()\n",
        "spark.sparkContext.setLogLevel(\"INFO\")\n",
        "# Load CSV directly into Spark (skip pandas entirely)\n",
        "spark_df = spark.read.csv('/content/sample_data/influx_dump_05262025.csv', header=True, inferSchema=True)\n",
        "\n",
        "# Filter by tag value\n",
        "spark_df = spark_df.filter((col(\"tag\") == \"Program:C1_Control.Cell.AutomaticAll\") & (col(\"field\") == \"value\") & (col(\"value\") == 1))\n",
        "\n",
        "# Parse timestamp\n",
        "spark_df = spark_df.withColumn(\"timestamp\", to_timestamp(col(\"timestamp\")))\n",
        "\n",
        "# Extract time and day\n",
        "spark_df = spark_df.withColumn(\"time_str\", date_format(col(\"timestamp\"), \"HH:mm:ss\"))\n",
        "spark_df = spark_df.withColumn(\"date\", date_format(col(\"timestamp\"), \"yyyy-MM-dd\"))\n",
        "\n",
        "# Assign shift\n",
        "spark_df = spark_df.withColumn(\n",
        "    \"shift\",\n",
        "    when((col(\"time_str\") >= \"07:00:00\") & (col(\"time_str\") <= \"15:30:00\"), 1)\n",
        "    .when((col(\"time_str\") >= \"15:00:00\") & (col(\"time_str\") <= \"23:30:00\"), 2)\n",
        "    .otherwise(\"shift3\")\n",
        ")\n",
        "\n",
        "# Add overlap column\n",
        "spark_df = spark_df.withColumn(\n",
        "    \"overlap\",\n",
        "    when((col(\"time_str\") >= \"15:00:00\") & (col(\"time_str\") <= \"15:30:00\"), 1).otherwise(0)\n",
        ")\n",
        "\n",
        "# Show final result\n",
        "spark_df.select(\"field\",\"value\",\"timestamp\", \"time_str\", \"shift\", \"overlap\", \"date\").show(10, truncate=False)\n"
      ],
      "metadata": {
        "colab": {
          "base_uri": "https://localhost:8080/"
        },
        "id": "JqtMAoZYk7QK",
        "outputId": "39f01d3d-83d8-4042-d780-db1b23b1336b"
      },
      "execution_count": 25,
      "outputs": [
        {
          "output_type": "stream",
          "name": "stdout",
          "text": [
            "+-----+-----+-------------------+--------+-----+-------+----------+\n",
            "|field|value|timestamp          |time_str|shift|overlap|date      |\n",
            "+-----+-----+-------------------+--------+-----+-------+----------+\n",
            "|value|1.0  |2025-05-20 18:03:35|18:03:35|2    |0      |2025-05-20|\n",
            "|value|1.0  |2025-05-20 18:03:36|18:03:36|2    |0      |2025-05-20|\n",
            "|value|1.0  |2025-05-20 18:03:37|18:03:37|2    |0      |2025-05-20|\n",
            "|value|1.0  |2025-05-20 18:03:38|18:03:38|2    |0      |2025-05-20|\n",
            "|value|1.0  |2025-05-20 18:03:39|18:03:39|2    |0      |2025-05-20|\n",
            "|value|1.0  |2025-05-20 18:03:40|18:03:40|2    |0      |2025-05-20|\n",
            "|value|1.0  |2025-05-20 18:03:41|18:03:41|2    |0      |2025-05-20|\n",
            "|value|1.0  |2025-05-20 18:03:42|18:03:42|2    |0      |2025-05-20|\n",
            "|value|1.0  |2025-05-20 18:03:42|18:03:42|2    |0      |2025-05-20|\n",
            "|value|1.0  |2025-05-20 18:03:43|18:03:43|2    |0      |2025-05-20|\n",
            "+-----+-----+-------------------+--------+-----+-------+----------+\n",
            "only showing top 10 rows\n",
            "\n"
          ]
        }
      ]
    }
  ]
}